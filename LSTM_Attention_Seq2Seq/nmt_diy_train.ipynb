{
 "cells": [
  {
   "cell_type": "code",
   "execution_count": 1,
   "metadata": {},
   "outputs": [
    {
     "name": "stderr",
     "output_type": "stream",
     "text": [
      "Using TensorFlow backend.\n"
     ]
    }
   ],
   "source": [
    "# -*- coding: utf-8 -*-\n",
    "\n",
    "import tensorflow as tf\n",
    "import numpy as np\n",
    "import matplotlib.pyplot as plt\n",
    "%matplotlib inline\n",
    "from sklearn.utils import shuffle\n",
    "from keras.preprocessing.sequence import pad_sequences\n",
    "import os\n",
    "from tqdm import tqdm\n",
    "import pickle\n",
    "# import os\n",
    "# os.environ['CUDA_VISIBLE_DEVICES'] = '1'"
   ]
  },
  {
   "cell_type": "code",
   "execution_count": 2,
   "metadata": {},
   "outputs": [
    {
     "name": "stdout",
     "output_type": "stream",
     "text": [
      "20003 ['<unk>', '<s>', '</s>', ',', '的', '.', '\"', '和', '在', '了', '中国', '是', '对', '发展', '与', '美国', '要', '中', '一', '问题']\n",
      "20003 ['<unk>', '<s>', '</s>', 'the', ',', 'and', 'of', '.', 'to', 'in', '\"', 'a', '-', 'is', 'that', \"'s\", 'for', 'on', 'china', 'with']\n"
     ]
    }
   ],
   "source": [
    "def load_vocab(path):\n",
    "    with open(path, 'r') as fr:\n",
    "        vocab = fr.readlines()\n",
    "        vocab = [w.strip('\\n') for w in vocab]\n",
    "    return vocab\n",
    "\n",
    "vocab_ch = load_vocab('data/vocab.ch')\n",
    "vocab_en = load_vocab('data/vocab.en')\n",
    "print(len(vocab_ch), vocab_ch[:20])\n",
    "print(len(vocab_en), vocab_en[:20])\n",
    "\n",
    "word2id_ch = {w: i for i, w in enumerate(vocab_ch)}\n",
    "id2word_ch = {i: w for i, w in enumerate(vocab_ch)}\n",
    "word2id_en = {w: i for i, w in enumerate(vocab_en)}\n",
    "id2word_en = {i: w for i, w in enumerate(vocab_en)}"
   ]
  },
  {
   "cell_type": "code",
   "execution_count": 3,
   "metadata": {},
   "outputs": [
    {
     "name": "stdout",
     "output_type": "stream",
     "text": [
      "26.67735\n",
      "34.8603\n",
      "26.774\n",
      "34.876\n",
      "27.295\n",
      "35.035\n",
      "62 62\n",
      "(1000, 62) (1000, 62)\n",
      "(400, 62) (400, 62)\n"
     ]
    }
   ],
   "source": [
    "def load_data(path, word2id):\n",
    "    with open(path, 'r') as fr:\n",
    "        lines = fr.readlines()\n",
    "        sentences = [line.strip('\\n').split(' ') for line in lines]\n",
    "        sentences = [[word2id['<s>']] + [word2id[w] for w in sentence] + [word2id['</s>']]\n",
    "                     for sentence in sentences]\n",
    "        \n",
    "        lens = [len(sentence) for sentence in sentences]\n",
    "        maxlen = np.max(lens)\n",
    "        print(np.mean(lens))\n",
    "        return sentences, lens, maxlen\n",
    "\n",
    "# train: training, no beam search, calculate loss\n",
    "# eval: no training, no beam search, calculate loss\n",
    "# infer: no training, beam search, calculate bleu\n",
    "mode = 'infer'\n",
    "#mode = 'train'\n",
    "\n",
    "train_ch, len_train_ch, maxlen_train_ch = load_data('data/train_20.ch', word2id_ch)\n",
    "train_en, len_train_en, maxlen_train_en = load_data('data/train_20.en', word2id_en)\n",
    "dev_ch, len_dev_ch, maxlen_dev_ch = load_data('data/dev.ch', word2id_ch)\n",
    "dev_en, len_dev_en, maxlen_dev_en = load_data('data/dev.en', word2id_en)\n",
    "test_ch, len_test_ch, maxlen_test_ch = load_data('data/test.ch', word2id_ch)\n",
    "test_en, len_test_en, maxlen_test_en = load_data('data/test.en', word2id_en)\n",
    "\n",
    "maxlen_ch = np.max([maxlen_train_ch, maxlen_dev_ch, maxlen_test_ch])\n",
    "maxlen_en = np.max([maxlen_train_en, maxlen_dev_en, maxlen_test_en])\n",
    "print(maxlen_ch, maxlen_en)\n",
    "\n",
    "if mode == 'train':\n",
    "    train_ch = pad_sequences(train_ch, maxlen=maxlen_ch, padding='post', value=word2id_ch['</s>'])\n",
    "    train_en = pad_sequences(train_en, maxlen=maxlen_en, padding='post', value=word2id_en['</s>'])\n",
    "    print(train_ch.shape, train_en.shape)\n",
    "if mode == 'infer':\n",
    "    dev_ch = pad_sequences(dev_ch, maxlen=maxlen_ch, padding='post', value=word2id_ch['</s>'])\n",
    "    dev_en = pad_sequences(dev_en, maxlen=maxlen_en, padding='post', value=word2id_en['</s>'])\n",
    "    print(dev_ch.shape, dev_en.shape)\n",
    "if mode == 'infer':\n",
    "    test_ch = pad_sequences(test_ch, maxlen=maxlen_ch, padding='post', value=word2id_ch['</s>'])\n",
    "    test_en = pad_sequences(test_en, maxlen=maxlen_en, padding='post', value=word2id_en['</s>'])\n",
    "    print(test_ch.shape, test_en.shape)"
   ]
  },
  {
   "cell_type": "code",
   "execution_count": 4,
   "metadata": {},
   "outputs": [
    {
     "name": "stdout",
     "output_type": "stream",
     "text": [
      "WARNING:tensorflow:\n",
      "The TensorFlow contrib module will not be included in TensorFlow 2.0.\n",
      "For more information, please see:\n",
      "  * https://github.com/tensorflow/community/blob/master/rfcs/20180907-contrib-sunset.md\n",
      "  * https://github.com/tensorflow/addons\n",
      "  * https://github.com/tensorflow/io (for I/O related ops)\n",
      "If you depend on functionality not listed there, please file an issue.\n",
      "\n"
     ]
    }
   ],
   "source": [
    "X = tf.placeholder(tf.int32, [None, maxlen_ch])\n",
    "X_len = tf.placeholder(tf.int32, [None])\n",
    "Y = tf.placeholder(tf.int32, [None, maxlen_en])\n",
    "Y_len = tf.placeholder(tf.int32, [None])\n",
    "Y_in = Y[:, :-1]\n",
    "Y_out = Y[:, 1:]\n",
    "\n",
    "k_initializer = tf.contrib.layers.xavier_initializer()\n",
    "e_initializer = tf.random_uniform_initializer(-1.0, 1.0)\n",
    "\n",
    "embedding_size = 512\n",
    "hidden_size = 512\n",
    "\n",
    "if mode == 'train':\n",
    "    batch_size = 128\n",
    "else:\n",
    "    batch_size = 16\n",
    "\n",
    "with tf.variable_scope('embedding_X'):\n",
    "    embeddings_X = tf.get_variable('weights_X', [len(word2id_ch), embedding_size], initializer=e_initializer)\n",
    "    embedded_X = tf.nn.embedding_lookup(embeddings_X, X) # batch_size, seq_len, embedding_size\n",
    "    \n",
    "with tf.variable_scope('embedding_Y'):\n",
    "    embeddings_Y = tf.get_variable('weights_Y', [len(word2id_en), embedding_size], initializer=e_initializer)\n",
    "    embedded_Y = tf.nn.embedding_lookup(embeddings_Y, Y_in) # batch_size, seq_len, embedding_size"
   ]
  },
  {
   "cell_type": "code",
   "execution_count": 5,
   "metadata": {},
   "outputs": [
    {
     "name": "stdout",
     "output_type": "stream",
     "text": [
      "WARNING:tensorflow:From <ipython-input-5-dc741a44f56a>:6: BasicLSTMCell.__init__ (from tensorflow.python.ops.rnn_cell_impl) is deprecated and will be removed in a future version.\n",
      "Instructions for updating:\n",
      "This class is equivalent as tf.keras.layers.LSTMCell, and will be replaced by that in Tensorflow 2.0.\n",
      "WARNING:tensorflow:From <ipython-input-5-dc741a44f56a>:15: MultiRNNCell.__init__ (from tensorflow.python.ops.rnn_cell_impl) is deprecated and will be removed in a future version.\n",
      "Instructions for updating:\n",
      "This class is equivalent as tf.keras.layers.StackedRNNCells, and will be replaced by that in Tensorflow 2.0.\n",
      "WARNING:tensorflow:From <ipython-input-5-dc741a44f56a>:35: bidirectional_dynamic_rnn (from tensorflow.python.ops.rnn) is deprecated and will be removed in a future version.\n",
      "Instructions for updating:\n",
      "Please use `keras.layers.Bidirectional(keras.layers.RNN(cell))`, which is equivalent to this API\n",
      "WARNING:tensorflow:From /root/anaconda3/envs/test/lib/python3.7/site-packages/tensorflow_core/python/ops/rnn.py:464: dynamic_rnn (from tensorflow.python.ops.rnn) is deprecated and will be removed in a future version.\n",
      "Instructions for updating:\n",
      "Please use `keras.layers.RNN(cell)`, which is equivalent to this API\n",
      "WARNING:tensorflow:From /root/anaconda3/envs/test/lib/python3.7/site-packages/tensorflow_core/python/ops/rnn_cell_impl.py:735: Layer.add_variable (from tensorflow.python.keras.engine.base_layer) is deprecated and will be removed in a future version.\n",
      "Instructions for updating:\n",
      "Please use `layer.add_weight` method instead.\n",
      "WARNING:tensorflow:From /root/anaconda3/envs/test/lib/python3.7/site-packages/tensorflow_core/python/ops/rnn_cell_impl.py:739: calling Zeros.__init__ (from tensorflow.python.ops.init_ops) with dtype is deprecated and will be removed in a future version.\n",
      "Instructions for updating:\n",
      "Call initializer instance with the dtype argument instead of passing it to the constructor\n",
      "WARNING:tensorflow:From /root/anaconda3/envs/test/lib/python3.7/site-packages/tensorflow_core/python/ops/rnn.py:244: where (from tensorflow.python.ops.array_ops) is deprecated and will be removed in a future version.\n",
      "Instructions for updating:\n",
      "Use tf.where in 2.0, which has the same broadcast rule as np.where\n",
      "==================================================================================================== \n",
      " (<tf.Tensor 'encoder/bidirectional_rnn/fw/fw/transpose_1:0' shape=(?, 62, 512) dtype=float32>, <tf.Tensor 'encoder/ReverseSequence:0' shape=(?, 62, 512) dtype=float32>)\n",
      "==================================================================================================== \n",
      " Tensor(\"encoder/concat:0\", shape=(?, 62, 1024), dtype=float32)\n",
      "==================================================================================================== \n",
      " ((LSTMStateTuple(c=<tf.Tensor 'encoder/bidirectional_rnn/fw/fw/while/Exit_3:0' shape=(?, 512) dtype=float32>, h=<tf.Tensor 'encoder/bidirectional_rnn/fw/fw/while/Exit_4:0' shape=(?, 512) dtype=float32>),), (LSTMStateTuple(c=<tf.Tensor 'encoder/bidirectional_rnn/bw/bw/while/Exit_3:0' shape=(?, 512) dtype=float32>, h=<tf.Tensor 'encoder/bidirectional_rnn/bw/bw/while/Exit_4:0' shape=(?, 512) dtype=float32>),))\n",
      "====================================================================================================\n",
      "0 LSTMStateTuple(c=<tf.Tensor 'encoder/bidirectional_rnn/fw/fw/while/Exit_3:0' shape=(?, 512) dtype=float32>, h=<tf.Tensor 'encoder/bidirectional_rnn/fw/fw/while/Exit_4:0' shape=(?, 512) dtype=float32>)\n",
      "1 LSTMStateTuple(c=<tf.Tensor 'encoder/bidirectional_rnn/bw/bw/while/Exit_3:0' shape=(?, 512) dtype=float32>, h=<tf.Tensor 'encoder/bidirectional_rnn/bw/bw/while/Exit_4:0' shape=(?, 512) dtype=float32>)\n"
     ]
    }
   ],
   "source": [
    "def single_cell(mode=mode):\n",
    "    if mode == 'train':\n",
    "        keep_prob = 0.8\n",
    "    else:\n",
    "        keep_prob = 1.0\n",
    "    cell = tf.nn.rnn_cell.BasicLSTMCell(hidden_size)\n",
    "    cell = tf.nn.rnn_cell.DropoutWrapper(cell, input_keep_prob=keep_prob)\n",
    "    return cell\n",
    "\n",
    "def multi_cells(num_layers):\n",
    "    cells = []\n",
    "    for i in range(num_layers):\n",
    "        cell = single_cell()\n",
    "        cells.append(cell)\n",
    "    return tf.nn.rnn_cell.MultiRNNCell(cells)\n",
    "\n",
    "def normalize(inputs, epsilon=1e-8):\n",
    "\n",
    "    inputs_shape = inputs.get_shape()\n",
    "    params_shape = inputs_shape[-1:]\n",
    "\n",
    "    mean, variance = tf.nn.moments(inputs, [-1], keep_dims=True)\n",
    "    beta = tf.Variable(tf.zeros(params_shape))\n",
    "    gamma = tf.Variable(tf.ones(params_shape))\n",
    "    normalized = (inputs - mean) / ((variance + epsilon) ** (.5))\n",
    "    outputs = gamma * normalized + beta\n",
    "\n",
    "    return outputs\n",
    "    \n",
    "with tf.variable_scope('encoder'):\n",
    "    num_layers = 1\n",
    "    fw_cell = multi_cells(num_layers)\n",
    "    bw_cell = multi_cells(num_layers)\n",
    "    bi_outputs, bi_state = tf.nn.bidirectional_dynamic_rnn(fw_cell, bw_cell, embedded_X, dtype=tf.float32,\n",
    "                                                           sequence_length=X_len)\n",
    "    # fw: batch_size, seq_len, hidden_size\n",
    "    # bw: batch_size, seq_len, hidden_size\n",
    "    print('=' * 100, '\\n', bi_outputs)\n",
    "    \n",
    "    encoder_outputs = tf.concat(bi_outputs, -1)\n",
    "#     output_fw, output_bw = bi_outputs\n",
    "#     output_fw += embedded_X\n",
    "#     output_fw = tf.tanh(output_fw)\n",
    "#     output_fw = normalize(output_fw)\n",
    "#     output_bw += embedded_X\n",
    "#     output_bw = tf.tanh(output_bw)\n",
    "#     output_bw = normalize(output_bw)\n",
    "#     encoder_outputs = tf.concat([output_fw, output_bw], -1)\n",
    "    print('=' * 100, '\\n', encoder_outputs) # batch_size, seq_len, 2 * hidden_size\n",
    "    \n",
    "    # 2 tuple(fw & bw), 2 tuple(c & h), batch_size, hidden_size\n",
    "    print('=' * 100, '\\n', bi_state)\n",
    "    \n",
    "    encoder_state = []\n",
    "    for i in range(num_layers):\n",
    "        encoder_state.append(bi_state[0][i])  # forward\n",
    "        encoder_state.append(bi_state[1][i])  # backward\n",
    "    encoder_state = tuple(encoder_state) # 2 tuple, 2 tuple(c & h), batch_size, hidden_size\n",
    "    print('=' * 100)\n",
    "    for i in range(len(encoder_state)):\n",
    "        print(i, encoder_state[i])"
   ]
  },
  {
   "cell_type": "code",
   "execution_count": 6,
   "metadata": {},
   "outputs": [
    {
     "name": "stdout",
     "output_type": "stream",
     "text": [
      "WARNING:tensorflow:From /root/anaconda3/envs/test/lib/python3.7/site-packages/tensorflow_core/contrib/seq2seq/python/ops/beam_search_decoder.py:971: to_int64 (from tensorflow.python.ops.math_ops) is deprecated and will be removed in a future version.\n",
      "Instructions for updating:\n",
      "Use `tf.cast` instead.\n"
     ]
    }
   ],
   "source": [
    "with tf.variable_scope('decoder'):\n",
    "    beam_width = 10\n",
    "    memory = encoder_outputs\n",
    "    \n",
    "    if mode == 'infer':\n",
    "        memory = tf.contrib.seq2seq.tile_batch(memory, beam_width)\n",
    "        X_len_ = tf.contrib.seq2seq.tile_batch(X_len, beam_width)\n",
    "        encoder_state = tf.contrib.seq2seq.tile_batch(encoder_state, beam_width)\n",
    "        bs = batch_size * beam_width\n",
    "    else:\n",
    "        bs = batch_size\n",
    "        X_len_ = X_len\n",
    "    \n",
    "    attention = tf.contrib.seq2seq.LuongAttention(hidden_size, memory, X_len_, scale=True) # multiplicative\n",
    "    # attention = tf.contrib.seq2seq.BahdanauAttention(hidden_size, memory, X_len_, normalize=True) # additive\n",
    "    cell = multi_cells(num_layers * 2)\n",
    "    cell = tf.contrib.seq2seq.AttentionWrapper(cell, attention, hidden_size, name='attention')\n",
    "    decoder_initial_state = cell.zero_state(bs, tf.float32).clone(cell_state=encoder_state)\n",
    "    \n",
    "    with tf.variable_scope('projected'):\n",
    "        output_layer = tf.layers.Dense(len(word2id_en), use_bias=False, kernel_initializer=k_initializer)\n",
    "    \n",
    "    if mode == 'infer':\n",
    "        start = tf.fill([batch_size], word2id_en['<s>'])\n",
    "        decoder = tf.contrib.seq2seq.BeamSearchDecoder(cell, embeddings_Y, start, word2id_en['</s>'],\n",
    "                                                       decoder_initial_state, beam_width, output_layer)\n",
    "        outputs, final_context_state, _ = tf.contrib.seq2seq.dynamic_decode(decoder,\n",
    "                                                output_time_major=True,\n",
    "                                                maximum_iterations=2 * tf.reduce_max(X_len))\n",
    "        sample_id = outputs.predicted_ids\n",
    "    else:\n",
    "        helper = tf.contrib.seq2seq.TrainingHelper(embedded_Y, [maxlen_en - 1 for b in range(batch_size)])\n",
    "        decoder = tf.contrib.seq2seq.BasicDecoder(cell, helper, decoder_initial_state, output_layer)\n",
    "        \n",
    "        outputs, final_context_state, _ = tf.contrib.seq2seq.dynamic_decode(decoder, \n",
    "                                                                            output_time_major=True)\n",
    "        logits = outputs.rnn_output\n",
    "        logits = tf.transpose(logits, (1, 0, 2))\n",
    "        print(logits)"
   ]
  },
  {
   "cell_type": "code",
   "execution_count": 7,
   "metadata": {},
   "outputs": [],
   "source": [
    "if mode != 'infer':\n",
    "    with tf.variable_scope('loss'):\n",
    "        loss = tf.nn.sparse_softmax_cross_entropy_with_logits(labels=Y_out, logits=logits)\n",
    "        mask = tf.sequence_mask(Y_len, tf.shape(Y_out)[1], tf.float32)\n",
    "        loss = tf.reduce_sum(loss * mask) / batch_size\n",
    "\n",
    "if mode == 'train':\n",
    "    learning_rate = tf.Variable(0.0, trainable=False)\n",
    "    params = tf.trainable_variables()\n",
    "    grads, _ = tf.clip_by_global_norm(tf.gradients(loss, params), 5.0)\n",
    "    optimizer = tf.train.GradientDescentOptimizer(learning_rate).apply_gradients(zip(grads, params))"
   ]
  },
  {
   "cell_type": "code",
   "execution_count": 8,
   "metadata": {
    "scrolled": false
   },
   "outputs": [],
   "source": [
    "sess = tf.Session()\n",
    "sess.run(tf.global_variables_initializer())\n",
    "\n",
    "if mode == 'train':\n",
    "    saver = tf.train.Saver()\n",
    "    OUTPUT_DIR = 'model_diy'\n",
    "    if not os.path.exists(OUTPUT_DIR):\n",
    "        os.mkdir(OUTPUT_DIR)\n",
    "        \n",
    "    tf.summary.scalar('loss', loss)\n",
    "    summary = tf.summary.merge_all()\n",
    "    writer = tf.summary.FileWriter(OUTPUT_DIR)\n",
    "        \n",
    "    epochs = 20\n",
    "    for e in range(epochs):\n",
    "        total_loss = 0\n",
    "        total_count = 0\n",
    "        \n",
    "        start_decay = int(epochs * 2 / 3)\n",
    "        if e <= start_decay:\n",
    "            lr = 1.0\n",
    "        else:\n",
    "            decay = 0.5 ** (int(4 * (e - start_decay) / (epochs - start_decay)))\n",
    "            lr = 1.0 * decay\n",
    "        sess.run(tf.assign(learning_rate, lr))\n",
    "        \n",
    "        train_ch, len_train_ch, train_en, len_train_en = shuffle(train_ch, len_train_ch, train_en, len_train_en)\n",
    "        \n",
    "        for i in tqdm(range(train_ch.shape[0] // batch_size)):\n",
    "            X_batch = train_ch[i * batch_size: i * batch_size + batch_size]\n",
    "            X_len_batch = len_train_ch[i * batch_size: i * batch_size + batch_size]\n",
    "            Y_batch = train_en[i * batch_size: i * batch_size + batch_size]\n",
    "            Y_len_batch = len_train_en[i * batch_size: i * batch_size + batch_size]\n",
    "            Y_len_batch = [l - 1 for l in Y_len_batch]\n",
    "\n",
    "            feed_dict = {X: X_batch, Y: Y_batch, X_len: X_len_batch, Y_len: Y_len_batch}\n",
    "            _, ls_ = sess.run([optimizer, loss], feed_dict=feed_dict)\n",
    "            \n",
    "            total_loss += ls_ * batch_size\n",
    "            total_count += np.sum(Y_len_batch)\n",
    "\n",
    "            if i > 0 and i % 100 == 0:\n",
    "                writer.add_summary(sess.run(summary, \n",
    "                                            feed_dict=feed_dict), \n",
    "                                            e * train_ch.shape[0] // batch_size + i)\n",
    "                writer.flush()\n",
    "        \n",
    "        print('Epoch %d lr %.3f perplexity %.2f' % (e, lr, np.exp(total_loss / total_count)))\n",
    "        saver.save(sess, os.path.join(OUTPUT_DIR, 'nmt'))"
   ]
  },
  {
   "cell_type": "code",
   "execution_count": 9,
   "metadata": {},
   "outputs": [
    {
     "name": "stdout",
     "output_type": "stream",
     "text": [
      "INFO:tensorflow:Restoring parameters from model_diy/nmt\n"
     ]
    },
    {
     "name": "stderr",
     "output_type": "stream",
     "text": [
      "100%|██████████| 62/62 [00:16<00:00,  3.75it/s]"
     ]
    },
    {
     "name": "stdout",
     "output_type": "stream",
     "text": [
      "WARNING:tensorflow:From /root/文档/中-英/26 Seq2Seq机器翻译zh-en(20000)/26 Seq2Seq机器翻译/nmt/utils/evaluation_utils.py:76: The name tf.gfile.GFile is deprecated. Please use tf.io.gfile.GFile instead.\n",
      "\n"
     ]
    },
    {
     "name": "stderr",
     "output_type": "stream",
     "text": [
      "\n"
     ]
    },
    {
     "name": "stdout",
     "output_type": "stream",
     "text": [
      "bleu 0.14081566967321943\n",
      "rouge 0.37330195125850585\n"
     ]
    }
   ],
   "source": [
    "if mode == 'infer':\n",
    "    saver = tf.train.Saver()\n",
    "    OUTPUT_DIR = 'model_diy'\n",
    "    saver.restore(sess, tf.train.latest_checkpoint(OUTPUT_DIR))\n",
    "    \n",
    "    def translate(ids):\n",
    "        words = [id2word_en[i] for i in ids]\n",
    "        if words[0] == '<s>':\n",
    "            words = words[1:]\n",
    "        if '</s>' in words:\n",
    "            words = words[:words.index('</s>')]\n",
    "        return ' '.join(words)\n",
    "    fw = open('output_dev_diy', 'w')\n",
    "    for i in tqdm(range(dev_ch.shape[0] // batch_size)):\n",
    "        X_batch = dev_ch[i * batch_size: i * batch_size + batch_size]\n",
    "        X_len_batch = len_dev_ch[i * batch_size: i * batch_size + batch_size]\n",
    "        Y_batch = dev_en[i * batch_size: i * batch_size + batch_size]\n",
    "        Y_len_batch = len_dev_en[i * batch_size: i * batch_size + batch_size]\n",
    "        Y_len_batch = [l - 1 for l in Y_len_batch]\n",
    "        \n",
    "        feed_dict = {X: X_batch, Y: Y_batch, X_len: X_len_batch, Y_len: Y_len_batch}\n",
    "        ids = sess.run(sample_id, feed_dict=feed_dict) # seq_len, batch_size, beam_width\n",
    "        ids = np.transpose(ids, (1, 2, 0)) # batch_size, beam_width, seq_len\n",
    "        ids = ids[:, 0, :] # batch_size, seq_len\n",
    "        \n",
    "        for j in range(ids.shape[0]):\n",
    "            sentence = translate(ids[j])\n",
    "            fw.write(sentence + '\\n')\n",
    "    fw.close()\n",
    "    \n",
    "    from nmt.utils.evaluation_utils import evaluate\n",
    "    \n",
    "    for metric in ['bleu', 'rouge']:\n",
    "        score = evaluate('data/dev.en', 'output_dev_diy', metric)\n",
    "        print(metric, score / 100)\n",
    "#         ls_ = sess.run(loss, feed_dict=feed_dict)\n",
    "        \n",
    "#         total_loss += ls_ * batch_size\n",
    "#         total_count += np.sum(Y_len_batch)\n",
    "\n",
    "#     print('Dev perplexity %.2f' % np.exp(total_loss / total_count))"
   ]
  },
  {
   "cell_type": "code",
   "execution_count": 10,
   "metadata": {
    "scrolled": false
   },
   "outputs": [
    {
     "name": "stdout",
     "output_type": "stream",
     "text": [
      "INFO:tensorflow:Restoring parameters from model_diy/nmt\n"
     ]
    },
    {
     "name": "stderr",
     "output_type": "stream",
     "text": [
      "100%|██████████| 25/25 [00:06<00:00,  3.74it/s]\n"
     ]
    },
    {
     "name": "stdout",
     "output_type": "stream",
     "text": [
      "bleu 0.13804765603452995\n",
      "rouge 0.37316245375121476\n"
     ]
    }
   ],
   "source": [
    "if mode == 'infer':\n",
    "    saver = tf.train.Saver()\n",
    "    OUTPUT_DIR = 'model_diy'\n",
    "    saver.restore(sess, tf.train.latest_checkpoint(OUTPUT_DIR))\n",
    "    \n",
    "    def translate(ids):\n",
    "        words = [id2word_en[i] for i in ids]\n",
    "        if words[0] == '<s>':\n",
    "            words = words[1:]\n",
    "        if '</s>' in words:\n",
    "            words = words[:words.index('</s>')]\n",
    "        return ' '.join(words)\n",
    "    \n",
    "    fw = open('output_test_diy', 'w')\n",
    "    for i in tqdm(range(test_ch.shape[0] // batch_size)):\n",
    "        X_batch = test_ch[i * batch_size: i * batch_size + batch_size]\n",
    "        X_len_batch = len_test_ch[i * batch_size: i * batch_size + batch_size]\n",
    "        Y_batch = test_en[i * batch_size: i * batch_size + batch_size]\n",
    "        Y_len_batch = len_test_en[i * batch_size: i * batch_size + batch_size]\n",
    "        Y_len_batch = [l - 1 for l in Y_len_batch]\n",
    "        \n",
    "        feed_dict = {X: X_batch, Y: Y_batch, X_len: X_len_batch, Y_len: Y_len_batch}\n",
    "        ids = sess.run(sample_id, feed_dict=feed_dict) # seq_len, batch_size, beam_width\n",
    "        ids = np.transpose(ids, (1, 2, 0)) # batch_size, beam_width, seq_len\n",
    "        ids = ids[:, 0, :] # batch_size, seq_len\n",
    "        \n",
    "        for j in range(ids.shape[0]):\n",
    "            sentence = translate(ids[j])\n",
    "            fw.write(sentence + '\\n')\n",
    "    fw.close()\n",
    "    \n",
    "    from nmt.utils.evaluation_utils import evaluate\n",
    "    \n",
    "    for metric in ['bleu', 'rouge']:\n",
    "        score = evaluate('data/test.en', 'output_test_diy', metric)\n",
    "        print(metric, score / 100)"
   ]
  },
  {
   "cell_type": "code",
   "execution_count": null,
   "metadata": {},
   "outputs": [],
   "source": []
  }
 ],
 "metadata": {
  "kernelspec": {
   "display_name": "Python 3",
   "language": "python",
   "name": "python3"
  },
  "language_info": {
   "codemirror_mode": {
    "name": "ipython",
    "version": 3
   },
   "file_extension": ".py",
   "mimetype": "text/x-python",
   "name": "python",
   "nbconvert_exporter": "python",
   "pygments_lexer": "ipython3",
   "version": "3.7.6"
  }
 },
 "nbformat": 4,
 "nbformat_minor": 2
}
